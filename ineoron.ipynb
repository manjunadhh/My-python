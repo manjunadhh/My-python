{
  "nbformat": 4,
  "nbformat_minor": 0,
  "metadata": {
    "colab": {
      "name": "ineoron.ipynb",
      "provenance": [],
      "authorship_tag": "ABX9TyN3Cy1gz7HYHM0EVcUc5dsc",
      "include_colab_link": true
    },
    "kernelspec": {
      "name": "python3",
      "display_name": "Python 3"
    },
    "language_info": {
      "name": "python"
    }
  },
  "cells": [
    {
      "cell_type": "markdown",
      "metadata": {
        "id": "view-in-github",
        "colab_type": "text"
      },
      "source": [
        "<a href=\"https://colab.research.google.com/github/manjunadhh/My-python/blob/main/ineoron.ipynb\" target=\"_parent\"><img src=\"https://colab.research.google.com/assets/colab-badge.svg\" alt=\"Open In Colab\"/></a>"
      ]
    },
    {
      "cell_type": "code",
      "execution_count": null,
      "metadata": {
        "colab": {
          "base_uri": "https://localhost:8080/"
        },
        "id": "2B6MLZrYeyBK",
        "outputId": "5ba47e3f-1461-43a8-fe79-5acfa107550c"
      },
      "outputs": [
        {
          "output_type": "execute_result",
          "data": {
            "text/plain": [
              "2"
            ]
          },
          "metadata": {},
          "execution_count": 1
        }
      ],
      "source": [
        "1+1"
      ]
    },
    {
      "cell_type": "code",
      "source": [
        "a=10"
      ],
      "metadata": {
        "id": "kJchgXJDgAuk"
      },
      "execution_count": null,
      "outputs": []
    },
    {
      "cell_type": "code",
      "source": [
        "a"
      ],
      "metadata": {
        "colab": {
          "base_uri": "https://localhost:8080/"
        },
        "id": "dkrQmnoCh4Jk",
        "outputId": "b40848ef-5007-4c97-9eba-34983932ac2b"
      },
      "execution_count": null,
      "outputs": [
        {
          "output_type": "execute_result",
          "data": {
            "text/plain": [
              "10"
            ]
          },
          "metadata": {},
          "execution_count": 3
        }
      ]
    },
    {
      "cell_type": "markdown",
      "source": [
        "for loops, \n",
        "loops is the which takes an conditions from the input user "
      ],
      "metadata": {
        "id": "mOLnGJh08tTJ"
      }
    },
    {
      "cell_type": "code",
      "source": [
        "s= [1,2,3,4,5,6,7,8,9]\n",
        "for i in s:\n",
        "  print(i+5)\n"
      ],
      "metadata": {
        "colab": {
          "base_uri": "https://localhost:8080/"
        },
        "id": "qQsxGWmn9J_R",
        "outputId": "e62cd616-ab79-4129-cd26-6a08d52172bb"
      },
      "execution_count": null,
      "outputs": [
        {
          "output_type": "stream",
          "name": "stdout",
          "text": [
            "6\n",
            "7\n",
            "8\n",
            "9\n",
            "10\n",
            "11\n",
            "12\n",
            "13\n",
            "14\n"
          ]
        }
      ]
    },
    {
      "cell_type": "markdown",
      "source": [
        "Strings :\n",
        "Basically string's in python is \"information\" stored in this way.python stores in indexing method in the memory"
      ],
      "metadata": {
        "id": "AsJocyf6Bmut"
      }
    },
    {
      "cell_type": "markdown",
      "source": [
        "for suppose"
      ],
      "metadata": {
        "id": "4lQJR0GACNPX"
      }
    },
    {
      "cell_type": "code",
      "source": [
        "A = \"manju\"\n",
        "A[4]"
      ],
      "metadata": {
        "id": "QJ7H9jjA9peP",
        "colab": {
          "base_uri": "https://localhost:8080/",
          "height": 35
        },
        "outputId": "3ce5b926-91ce-4a62-988b-476167ea8dfb"
      },
      "execution_count": null,
      "outputs": [
        {
          "output_type": "execute_result",
          "data": {
            "text/plain": [
              "'u'"
            ],
            "application/vnd.google.colaboratory.intrinsic+json": {
              "type": "string"
            }
          },
          "metadata": {},
          "execution_count": 3
        }
      ]
    },
    {
      "cell_type": "markdown",
      "source": [
        "in default the pyhton code starts form \"0\".so manju as follows as 01234\n"
      ],
      "metadata": {
        "id": "sWDQ5F_gCzEv"
      }
    },
    {
      "cell_type": "code",
      "source": [
        "id(A)"
      ],
      "metadata": {
        "colab": {
          "base_uri": "https://localhost:8080/"
        },
        "id": "TiGbwLYNDENU",
        "outputId": "bf0a93f4-5061-43ef-c660-dbaf53d81967"
      },
      "execution_count": null,
      "outputs": [
        {
          "output_type": "execute_result",
          "data": {
            "text/plain": [
              "140518159528176"
            ]
          },
          "metadata": {},
          "execution_count": 4
        }
      ]
    },
    {
      "cell_type": "markdown",
      "source": [
        "id gives us an internal location of the variable."
      ],
      "metadata": {
        "id": "dgMOS8SxDSbN"
      }
    },
    {
      "cell_type": "markdown",
      "source": [
        "String slicing gives us the method we can acess the data in certain pattren."
      ],
      "metadata": {
        "id": "zf6Pp7_lDx_9"
      }
    },
    {
      "cell_type": "code",
      "source": [
        "A[0:4]"
      ],
      "metadata": {
        "colab": {
          "base_uri": "https://localhost:8080/",
          "height": 35
        },
        "id": "aNUU1LPoDOod",
        "outputId": "4a952b46-4699-4fca-9f08-e8fbdcb33a64"
      },
      "execution_count": null,
      "outputs": [
        {
          "output_type": "execute_result",
          "data": {
            "text/plain": [
              "'manj'"
            ],
            "application/vnd.google.colaboratory.intrinsic+json": {
              "type": "string"
            }
          },
          "metadata": {},
          "execution_count": 5
        }
      ]
    },
    {
      "cell_type": "markdown",
      "source": [
        "suppose we want to use step in between the variables then we have to mention the step certeria .\n"
      ],
      "metadata": {
        "id": "sc5gtAvqKUJ1"
      }
    },
    {
      "cell_type": "code",
      "source": [
        ""
      ],
      "metadata": {
        "id": "qM13IlCzKugr"
      },
      "execution_count": null,
      "outputs": []
    },
    {
      "cell_type": "code",
      "source": [
        "A[0:5:2]"
      ],
      "metadata": {
        "colab": {
          "base_uri": "https://localhost:8080/",
          "height": 35
        },
        "id": "ccWRaXymKvZk",
        "outputId": "e60e6b83-a422-4c01-a0d7-c82873e270a8"
      },
      "execution_count": null,
      "outputs": [
        {
          "output_type": "execute_result",
          "data": {
            "text/plain": [
              "'mnu'"
            ],
            "application/vnd.google.colaboratory.intrinsic+json": {
              "type": "string"
            }
          },
          "metadata": {},
          "execution_count": 6
        }
      ]
    },
    {
      "cell_type": "code",
      "source": [
        "A.count"
      ],
      "metadata": {
        "colab": {
          "base_uri": "https://localhost:8080/"
        },
        "id": "kkdcNHiNK3sL",
        "outputId": "4ae115df-c285-480b-fbf7-904662e55b61"
      },
      "execution_count": null,
      "outputs": [
        {
          "output_type": "execute_result",
          "data": {
            "text/plain": [
              "<function str.count>"
            ]
          },
          "metadata": {},
          "execution_count": 7
        }
      ]
    },
    {
      "cell_type": "markdown",
      "source": [
        "**List**\n",
        "it is a data type which holds the of heterogenius elements\n",
        "with two [] square brackets"
      ],
      "metadata": {
        "id": "2J-rWlxwMjg0"
      }
    },
    {
      "cell_type": "markdown",
      "source": [
        "Range is a function which gives us the range to print certain values|"
      ],
      "metadata": {
        "id": "fpzP_YJTR7U-"
      }
    },
    {
      "cell_type": "code",
      "source": [
        "range(20)"
      ],
      "metadata": {
        "colab": {
          "base_uri": "https://localhost:8080/"
        },
        "id": "lOzZQsPaM26n",
        "outputId": "6b7148f6-101d-4cc6-e49f-aefdb11be9f6"
      },
      "execution_count": null,
      "outputs": [
        {
          "output_type": "execute_result",
          "data": {
            "text/plain": [
              "range(0, 20)"
            ]
          },
          "metadata": {},
          "execution_count": 8
        }
      ]
    },
    {
      "cell_type": "code",
      "source": [
        "list(range(10))"
      ],
      "metadata": {
        "colab": {
          "base_uri": "https://localhost:8080/"
        },
        "id": "AUtNtJ8-SQ1s",
        "outputId": "59f3334a-eacf-4285-c318-cf3d921dc0eb"
      },
      "execution_count": null,
      "outputs": [
        {
          "output_type": "execute_result",
          "data": {
            "text/plain": [
              "[0, 1, 2, 3, 4, 5, 6, 7, 8, 9]"
            ]
          },
          "metadata": {},
          "execution_count": 10
        }
      ]
    },
    {
      "cell_type": "code",
      "source": [
        "list(range(7,10))"
      ],
      "metadata": {
        "colab": {
          "base_uri": "https://localhost:8080/"
        },
        "id": "nW8jjJPrS7aS",
        "outputId": "dfc63faf-c8e2-48cf-f2da-3fc16c7f90b6"
      },
      "execution_count": null,
      "outputs": [
        {
          "output_type": "execute_result",
          "data": {
            "text/plain": [
              "[7, 8, 9]"
            ]
          },
          "metadata": {},
          "execution_count": 11
        }
      ]
    },
    {
      "cell_type": "markdown",
      "source": [
        "Limitation of the range is we cannnot use the floating point number."
      ],
      "metadata": {
        "id": "IIOPsJX2TsS9"
      }
    },
    {
      "cell_type": "markdown",
      "source": [
        "For loops :"
      ],
      "metadata": {
        "id": "4H-YLyoKUT4a"
      }
    },
    {
      "cell_type": "code",
      "source": [
        "L = [1,1,1,1,1,1,1]\n",
        "x = []\n",
        "for i in L :\n",
        "    (x.append(i+5))"
      ],
      "metadata": {
        "id": "6V1pJS3kSeWy"
      },
      "execution_count": null,
      "outputs": []
    },
    {
      "cell_type": "markdown",
      "source": [
        "For loops are used to data manipulation of give data types"
      ],
      "metadata": {
        "id": "vRS6sDBMVPFK"
      }
    },
    {
      "cell_type": "code",
      "source": [
        "x"
      ],
      "metadata": {
        "id": "HoGrcCB7Veu6",
        "colab": {
          "base_uri": "https://localhost:8080/"
        },
        "outputId": "739a9f2c-27c3-4a18-9d95-c969b1838089"
      },
      "execution_count": null,
      "outputs": [
        {
          "output_type": "execute_result",
          "data": {
            "text/plain": [
              "[6, 6, 6, 6, 6, 6, 6]"
            ]
          },
          "metadata": {},
          "execution_count": 7
        }
      ]
    },
    {
      "cell_type": "markdown",
      "source": [
        "\"Append\" command always adds the data in tail of the list."
      ],
      "metadata": {
        "id": "KWAe-6DYHh_q"
      }
    },
    {
      "cell_type": "code",
      "source": [
        "len(x)"
      ],
      "metadata": {
        "colab": {
          "base_uri": "https://localhost:8080/"
        },
        "id": "pxDMdmepHf-0",
        "outputId": "1f019e9a-8de5-4298-a077-504ba3f4b5f4"
      },
      "execution_count": null,
      "outputs": [
        {
          "output_type": "execute_result",
          "data": {
            "text/plain": [
              "7"
            ]
          },
          "metadata": {},
          "execution_count": 9
        }
      ]
    },
    {
      "cell_type": "markdown",
      "source": [
        "Len: it is a function which gives us how many elements are there in the collections"
      ],
      "metadata": {
        "id": "osPXb-qSI78l"
      }
    },
    {
      "cell_type": "code",
      "source": [
        "manju = [51,94,857,41,949,94,94,944,9,47,41]\n",
        "c = []\n",
        "for i in manju:\n",
        "    if (i>100):\n",
        "      c.append(i)\n",
        "print(c)"
      ],
      "metadata": {
        "colab": {
          "base_uri": "https://localhost:8080/"
        },
        "id": "LAhlmKyBIsgB",
        "outputId": "9a1472fb-cd1c-4105-d3a0-9b39f94d9a02"
      },
      "execution_count": null,
      "outputs": [
        {
          "output_type": "stream",
          "name": "stdout",
          "text": [
            "[857, 949, 944]\n"
          ]
        }
      ]
    },
    {
      "cell_type": "markdown",
      "source": [
        "\"if and elif\" are the conditions for the loops  "
      ],
      "metadata": {
        "id": "kKg6EX-DLtaB"
      }
    },
    {
      "cell_type": "code",
      "source": [
        "h =int(input(\"enter the number\"))\n",
        "L = [1,2,3,4,6,5,8,8,5,5]\n",
        "m = []\n",
        "\n",
        "for i in L:\n",
        "   if  i == h:\n",
        "\n",
        "    m.append(i)\n",
        "print(m)\n",
        "      "
      ],
      "metadata": {
        "colab": {
          "base_uri": "https://localhost:8080/"
        },
        "id": "A8Qbxbi6L3uS",
        "outputId": "86ddc3d1-403c-45bf-c88a-130235bffeeb"
      },
      "execution_count": null,
      "outputs": [
        {
          "output_type": "stream",
          "name": "stdout",
          "text": [
            "enter the number6\n",
            "[6]\n"
          ]
        }
      ]
    },
    {
      "cell_type": "code",
      "source": [
        "1"
      ],
      "metadata": {
        "id": "tFLptBBAOA3V"
      },
      "execution_count": null,
      "outputs": []
    },
    {
      "cell_type": "code",
      "source": [
        ""
      ],
      "metadata": {
        "id": "XbzX6g9hOfqk"
      },
      "execution_count": null,
      "outputs": []
    }
  ]
}